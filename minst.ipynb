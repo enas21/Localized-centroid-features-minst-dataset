{
  "nbformat": 4,
  "nbformat_minor": 0,
  "metadata": {
    "colab": {
      "name": "Pattern 1.ipynb",
      "provenance": [],
      "collapsed_sections": []
    },
    "kernelspec": {
      "name": "python3",
      "display_name": "Python 3"
    },
    "language_info": {
      "name": "python"
    },
    "accelerator": "GPU"
  },
  "cells": [
    {
      "cell_type": "code",
      "execution_count": 77,
      "metadata": {
        "id": "fY20I48onlR3"
      },
      "outputs": [],
      "source": [
        "import pandas as pd\n",
        "import numpy as np\n",
        "from sklearn.neighbors import KNeighborsClassifier\n",
        "from sklearn.metrics import accuracy_score\n",
        "from keras.datasets import mnist\n",
        "import PIL\n",
        "import os\n",
        "import glob\n",
        "import numpy as np"
      ]
    },
    {
      "cell_type": "code",
      "source": [
        "(x_train, y_train), (x_test, y_test) = mnist.load_data()"
      ],
      "metadata": {
        "id": "YVZkcM11Jxw7"
      },
      "execution_count": 78,
      "outputs": []
    },
    {
      "cell_type": "code",
      "source": [
        "x_train=x_train[:10000]\n",
        "y_train=y_train[:10000]\n",
        "\n",
        "print(x_train.shape)\n",
        "print(y_train.shape)"
      ],
      "metadata": {
        "colab": {
          "base_uri": "https://localhost:8080/"
        },
        "id": "Ii_uBSgIAhDA",
        "outputId": "0c6114c3-30c6-4edb-f3b1-6055765a3e22"
      },
      "execution_count": 79,
      "outputs": [
        {
          "output_type": "stream",
          "name": "stdout",
          "text": [
            "(10000, 28, 28)\n",
            "(10000,)\n"
          ]
        }
      ]
    },
    {
      "cell_type": "code",
      "source": [
        "y_test=y_test[:1000]\n",
        "x_test=x_test[:1000]\n",
        "\n",
        "print(x_test.shape)\n",
        "print(y_test.shape)"
      ],
      "metadata": {
        "colab": {
          "base_uri": "https://localhost:8080/"
        },
        "id": "VEuDkM4YCxvX",
        "outputId": "8fad2d0d-f47f-44aa-dc42-e2372e10c0b0"
      },
      "execution_count": 80,
      "outputs": [
        {
          "output_type": "stream",
          "name": "stdout",
          "text": [
            "(1000, 28, 28)\n",
            "(1000,)\n"
          ]
        }
      ]
    },
    {
      "cell_type": "code",
      "source": [
        "def centroid(block):\n",
        "    block = np.asarray(block)\n",
        "    xf = 0\n",
        "    yf = 0\n",
        "    f = 0\n",
        "    for x in range(block.shape[0]):\n",
        "        for y in range(block.shape[1]):\n",
        "            xf = xf + (x * block[x][y])\n",
        "            yf = yf + (y * block[x][y])\n",
        "            f = f + block[x][y]\n",
        "    X_centre = xf / f if f > 0 else 0\n",
        "    Y_centre = yf / f if f > 0 else 0\n",
        "    return X_centre, Y_centre"
      ],
      "metadata": {
        "id": "XE3TIyW4CfnK"
      },
      "execution_count": 81,
      "outputs": []
    },
    {
      "cell_type": "code",
      "source": [
        "def crop(images, number_of_samples):\n",
        "    height = 4\n",
        "    width = 4\n",
        "    new_images = []\n",
        "    for img in range(number_of_samples):\n",
        "        feature_vector = []\n",
        "        img = PIL.Image.fromarray(np.uint8(images[img]))\n",
        "        (img_width, img_height) = img.size\n",
        "        numbers_of_rows = np.int(img_height / height)\n",
        "        numbers_of_columns = np.int(img_width / width)\n",
        "        for X in range(numbers_of_rows):\n",
        "            for Y in range(numbers_of_columns):\n",
        "                box = (Y * width, X * height, (Y + 1) * width, (X + 1) * height)\n",
        "                block = img.crop(box)\n",
        "                X_center, Y_center = centroid(block)\n",
        "                feature_vector.append(X_center)\n",
        "                feature_vector.append(Y_center)\n",
        "        feature_vector = np.array(feature_vector)\n",
        "        new_images.append(feature_vector)\n",
        "    new_images = np.vstack(new_images)\n",
        "    print(new_images.shape)\n",
        "    return new_images"
      ],
      "metadata": {
        "id": "alWnsLsoLziQ"
      },
      "execution_count": 82,
      "outputs": []
    },
    {
      "cell_type": "code",
      "source": [
        "x_train = crop(x_train, 10000)\n",
        "x_test = crop(x_test , 1000)"
      ],
      "metadata": {
        "colab": {
          "base_uri": "https://localhost:8080/"
        },
        "id": "fumvvwKaAqcB",
        "outputId": "c6ef163d-be82-4e7e-c51d-603f8b0b751f"
      },
      "execution_count": 83,
      "outputs": [
        {
          "output_type": "stream",
          "name": "stderr",
          "text": [
            "/usr/local/lib/python3.7/dist-packages/ipykernel_launcher.py:9: DeprecationWarning: `np.int` is a deprecated alias for the builtin `int`. To silence this warning, use `int` by itself. Doing this will not modify any behavior and is safe. When replacing `np.int`, you may wish to use e.g. `np.int64` or `np.int32` to specify the precision. If you wish to review your current use, check the release note link for additional information.\n",
            "Deprecated in NumPy 1.20; for more details and guidance: https://numpy.org/devdocs/release/1.20.0-notes.html#deprecations\n",
            "  if __name__ == '__main__':\n",
            "/usr/local/lib/python3.7/dist-packages/ipykernel_launcher.py:10: DeprecationWarning: `np.int` is a deprecated alias for the builtin `int`. To silence this warning, use `int` by itself. Doing this will not modify any behavior and is safe. When replacing `np.int`, you may wish to use e.g. `np.int64` or `np.int32` to specify the precision. If you wish to review your current use, check the release note link for additional information.\n",
            "Deprecated in NumPy 1.20; for more details and guidance: https://numpy.org/devdocs/release/1.20.0-notes.html#deprecations\n",
            "  # Remove the CWD from sys.path while we load stuff.\n"
          ]
        },
        {
          "output_type": "stream",
          "name": "stdout",
          "text": [
            "(10000, 98)\n",
            "(1000, 98)\n"
          ]
        }
      ]
    },
    {
      "cell_type": "code",
      "source": [
        "classifier=KNeighborsClassifier(n_neighbors=1)\n",
        "classifier.fit(x_train,y_train)\n",
        "y_pred=classifier.predict(x_test)\n",
        "print(accuracy_score(y_pred,y_test))"
      ],
      "metadata": {
        "colab": {
          "base_uri": "https://localhost:8080/"
        },
        "id": "jP7SG5p0OOiD",
        "outputId": "8e7dfc9c-d736-4a0a-d96d-b325bc272230"
      },
      "execution_count": 84,
      "outputs": [
        {
          "output_type": "stream",
          "name": "stdout",
          "text": [
            "0.837\n"
          ]
        }
      ]
    }
  ]
}